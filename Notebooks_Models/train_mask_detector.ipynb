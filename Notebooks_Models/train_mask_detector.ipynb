{
 "cells": [
  {
   "cell_type": "code",
   "execution_count": 1,
   "id": "1ce31ce8",
   "metadata": {},
   "outputs": [],
   "source": [
    "import pandas as pd\n",
    "import numpy as np\n",
    "import os"
   ]
  },
  {
   "cell_type": "code",
   "execution_count": 2,
   "id": "1a1903b1",
   "metadata": {},
   "outputs": [
    {
     "name": "stdout",
     "output_type": "stream",
     "text": [
      "loading images\n"
     ]
    }
   ],
   "source": [
    "DATADIR = r\"C:\\Users\\user\\Face-Mask-Detection-master\\dataset\"\n",
    "DATATYPE = [\"with_mask\",\"without_mask\"]\n",
    "\n",
    "print(\"loading images\")\n",
    "\n",
    "data = []\n",
    "labels = []"
   ]
  },
  {
   "cell_type": "code",
   "execution_count": 3,
   "id": "a158208e",
   "metadata": {},
   "outputs": [
    {
     "name": "stderr",
     "output_type": "stream",
     "text": [
      "C:\\Users\\user\\anaconda3\\lib\\site-packages\\PIL\\Image.py:975: UserWarning: Palette images with Transparency expressed in bytes should be converted to RGBA images\n",
      "  warnings.warn(\n"
     ]
    }
   ],
   "source": [
    "from tensorflow.keras.preprocessing.image import load_img\n",
    "from tensorflow.keras.preprocessing.image import img_to_array\n",
    "from tensorflow.keras.applications.mobilenet_v2 import preprocess_input\n",
    "\n",
    "for dtype in DATATYPE:\n",
    "    path = os.path.join(DATADIR,dtype)\n",
    "    for img in os.listdir(path):\n",
    "        img_path = os.path.join(path, img)\n",
    "        image = load_img(img_path, target_size=(224,224))\n",
    "        image = img_to_array(image)\n",
    "        image = preprocess_input(image)\n",
    "        \n",
    "        data.append(image)\n",
    "        labels.append(dtype)"
   ]
  },
  {
   "cell_type": "code",
   "execution_count": 4,
   "id": "2bb32bc0",
   "metadata": {},
   "outputs": [],
   "source": [
    "#one hot encoding\n",
    "from sklearn.preprocessing import LabelBinarizer\n",
    "from tensorflow.keras.utils import to_categorical\n",
    "\n",
    "lb = LabelBinarizer()\n",
    "labels = lb.fit_transform(labels)\n",
    "labels = to_categorical(labels)"
   ]
  },
  {
   "cell_type": "code",
   "execution_count": 5,
   "id": "e282892b",
   "metadata": {},
   "outputs": [],
   "source": [
    "data = np.array(data, dtype=\"float32\")\n",
    "labels = np.array(labels)"
   ]
  },
  {
   "cell_type": "code",
   "execution_count": 6,
   "id": "a14db6cf",
   "metadata": {},
   "outputs": [],
   "source": [
    "from sklearn.model_selection import train_test_split\n",
    "Xtrain,Xtest,Ytrain,Ytest = train_test_split(data, labels, test_size=0.2, stratify = labels , random_state = 42)"
   ]
  },
  {
   "cell_type": "code",
   "execution_count": 7,
   "id": "7ff184cc",
   "metadata": {},
   "outputs": [],
   "source": [
    "INIT_LR = 1e-4\n",
    "EPOCHS = 20\n",
    "BS = 32\n",
    "\n",
    "# image generator for data augmentation\n",
    "from tensorflow.keras.preprocessing.image import ImageDataGenerator\n",
    "aug = ImageDataGenerator(rotation_range = 20,\n",
    "                        zoom_range = 0.15,\n",
    "                        width_shift_range = 0.2,\n",
    "                        height_shift_range = 0.2,\n",
    "                        shear_range = 0.15,\n",
    "                        horizontal_flip = True,\n",
    "                        fill_mode = \"nearest\")"
   ]
  },
  {
   "cell_type": "code",
   "execution_count": 8,
   "id": "346148fc",
   "metadata": {},
   "outputs": [
    {
     "name": "stdout",
     "output_type": "stream",
     "text": [
      "WARNING:tensorflow:`input_shape` is undefined or non-square, or `rows` is not in [96, 128, 160, 192, 224]. Weights for input shape (224, 224) will be loaded as the default.\n"
     ]
    }
   ],
   "source": [
    "from tensorflow.keras.applications import MobileNetV2\n",
    "from tensorflow.keras.layers import Input\n",
    "\n",
    "BaseModel = MobileNetV2(weights='imagenet', include_top=False,\n",
    "                       input_tensor = Input(shape=(224,224,3)))"
   ]
  },
  {
   "cell_type": "code",
   "execution_count": 9,
   "id": "60f1b111",
   "metadata": {},
   "outputs": [],
   "source": [
    "# fully connected layer\n",
    "from tensorflow.keras.layers import AveragePooling2D\n",
    "from tensorflow.keras.layers import Flatten\n",
    "from tensorflow.keras.layers import Dropout\n",
    "from tensorflow.keras.layers import Dense\n",
    "\n",
    "headModel = BaseModel.output\n",
    "headModel = AveragePooling2D(pool_size=(7,7))(headModel)\n",
    "headModel = Flatten(name=\"flatten\")(headModel)\n",
    "headModel = Dense(128, activation=\"relu\")(headModel)\n",
    "headModel = Dropout(0.5)(headModel)\n",
    "headModel = Dense(2, activation=\"softmax\")(headModel)"
   ]
  },
  {
   "cell_type": "code",
   "execution_count": 10,
   "id": "1a85f7f7",
   "metadata": {},
   "outputs": [],
   "source": [
    "#actual model\n",
    "from tensorflow.keras.models import Model\n",
    "\n",
    "model = Model(inputs=BaseModel.input, outputs=headModel)"
   ]
  },
  {
   "cell_type": "code",
   "execution_count": 11,
   "id": "524837b7",
   "metadata": {},
   "outputs": [],
   "source": [
    "for layer in BaseModel.layers:\n",
    "    layer.trainable = False"
   ]
  },
  {
   "cell_type": "code",
   "execution_count": 12,
   "id": "5efdc70e",
   "metadata": {},
   "outputs": [
    {
     "name": "stderr",
     "output_type": "stream",
     "text": [
      "C:\\Users\\user\\anaconda3\\lib\\site-packages\\keras\\src\\optimizers\\legacy\\adam.py:118: UserWarning: The `lr` argument is deprecated, use `learning_rate` instead.\n",
      "  super().__init__(name, **kwargs)\n"
     ]
    }
   ],
   "source": [
    "#compile the model\n",
    "from tensorflow.keras.optimizers.legacy import Adam\n",
    "\n",
    "opt = Adam(lr=INIT_LR, decay=INIT_LR/EPOCHS)\n",
    "model.compile(loss=\"binary_crossentropy\", optimizer=opt, metrics=[\"accuracy\"])"
   ]
  },
  {
   "cell_type": "code",
   "execution_count": 13,
   "id": "183b4d64",
   "metadata": {},
   "outputs": [
    {
     "name": "stdout",
     "output_type": "stream",
     "text": [
      "Epoch 1/20\n",
      "95/95 [==============================] - 89s 901ms/step - loss: 0.3922 - accuracy: 0.8507 - val_loss: 0.1469 - val_accuracy: 0.9804\n",
      "Epoch 2/20\n",
      "95/95 [==============================] - 81s 848ms/step - loss: 0.1483 - accuracy: 0.9588 - val_loss: 0.0827 - val_accuracy: 0.9857\n",
      "Epoch 3/20\n",
      "95/95 [==============================] - 80s 840ms/step - loss: 0.1032 - accuracy: 0.9690 - val_loss: 0.0649 - val_accuracy: 0.9857\n",
      "Epoch 4/20\n",
      "95/95 [==============================] - 81s 849ms/step - loss: 0.0836 - accuracy: 0.9779 - val_loss: 0.0513 - val_accuracy: 0.9870\n",
      "Epoch 5/20\n",
      "95/95 [==============================] - 78s 822ms/step - loss: 0.0696 - accuracy: 0.9782 - val_loss: 0.0449 - val_accuracy: 0.9870\n",
      "Epoch 6/20\n",
      "95/95 [==============================] - 79s 829ms/step - loss: 0.0577 - accuracy: 0.9842 - val_loss: 0.0425 - val_accuracy: 0.9870\n",
      "Epoch 7/20\n",
      "95/95 [==============================] - 79s 833ms/step - loss: 0.0580 - accuracy: 0.9845 - val_loss: 0.0415 - val_accuracy: 0.9922\n",
      "Epoch 8/20\n",
      "95/95 [==============================] - 80s 841ms/step - loss: 0.0510 - accuracy: 0.9855 - val_loss: 0.0360 - val_accuracy: 0.9922\n",
      "Epoch 9/20\n",
      "95/95 [==============================] - 80s 838ms/step - loss: 0.0394 - accuracy: 0.9901 - val_loss: 0.0339 - val_accuracy: 0.9909\n",
      "Epoch 10/20\n",
      "95/95 [==============================] - 79s 834ms/step - loss: 0.0466 - accuracy: 0.9842 - val_loss: 0.0331 - val_accuracy: 0.9909\n",
      "Epoch 11/20\n",
      "95/95 [==============================] - 79s 829ms/step - loss: 0.0348 - accuracy: 0.9918 - val_loss: 0.0325 - val_accuracy: 0.9909\n",
      "Epoch 12/20\n",
      "95/95 [==============================] - 78s 824ms/step - loss: 0.0342 - accuracy: 0.9901 - val_loss: 0.0305 - val_accuracy: 0.9922\n",
      "Epoch 13/20\n",
      "95/95 [==============================] - 80s 846ms/step - loss: 0.0305 - accuracy: 0.9918 - val_loss: 0.0296 - val_accuracy: 0.9935\n",
      "Epoch 14/20\n",
      "95/95 [==============================] - 80s 840ms/step - loss: 0.0310 - accuracy: 0.9918 - val_loss: 0.0301 - val_accuracy: 0.9922\n",
      "Epoch 15/20\n",
      "95/95 [==============================] - 80s 841ms/step - loss: 0.0335 - accuracy: 0.9885 - val_loss: 0.0293 - val_accuracy: 0.9922\n",
      "Epoch 16/20\n",
      "95/95 [==============================] - 81s 847ms/step - loss: 0.0315 - accuracy: 0.9888 - val_loss: 0.0274 - val_accuracy: 0.9922\n",
      "Epoch 17/20\n",
      "95/95 [==============================] - 81s 849ms/step - loss: 0.0311 - accuracy: 0.9898 - val_loss: 0.0265 - val_accuracy: 0.9922\n",
      "Epoch 18/20\n",
      "95/95 [==============================] - 81s 851ms/step - loss: 0.0258 - accuracy: 0.9908 - val_loss: 0.0266 - val_accuracy: 0.9935\n",
      "Epoch 19/20\n",
      "95/95 [==============================] - 82s 861ms/step - loss: 0.0238 - accuracy: 0.9927 - val_loss: 0.0305 - val_accuracy: 0.9909\n",
      "Epoch 20/20\n",
      "95/95 [==============================] - 81s 852ms/step - loss: 0.0251 - accuracy: 0.9931 - val_loss: 0.0276 - val_accuracy: 0.9935\n"
     ]
    }
   ],
   "source": [
    "# training\n",
    "\n",
    "H = model.fit(aug.flow(Xtrain,Ytrain, batch_size=BS),\n",
    "             steps_per_epoch=len(Xtrain) // BS,\n",
    "             validation_data=(Xtest, Ytest),\n",
    "             validation_steps=len(Xtest) // BS,\n",
    "             epochs = EPOCHS)"
   ]
  },
  {
   "cell_type": "code",
   "execution_count": 14,
   "id": "a1c0373e",
   "metadata": {},
   "outputs": [
    {
     "name": "stdout",
     "output_type": "stream",
     "text": [
      "24/24 [==============================] - 16s 632ms/step\n"
     ]
    }
   ],
   "source": [
    "predIDXS = model.predict(Xtest, batch_size = BS)"
   ]
  },
  {
   "cell_type": "code",
   "execution_count": 15,
   "id": "df2badd6",
   "metadata": {},
   "outputs": [],
   "source": [
    "predIDXS = np.argmax(predIDXS, axis=1)"
   ]
  },
  {
   "cell_type": "code",
   "execution_count": 16,
   "id": "6e5088be",
   "metadata": {},
   "outputs": [
    {
     "name": "stdout",
     "output_type": "stream",
     "text": [
      "              precision    recall  f1-score   support\n",
      "\n",
      "   with_mask       0.99      0.99      0.99       383\n",
      "without_mask       0.99      0.99      0.99       384\n",
      "\n",
      "    accuracy                           0.99       767\n",
      "   macro avg       0.99      0.99      0.99       767\n",
      "weighted avg       0.99      0.99      0.99       767\n",
      "\n"
     ]
    }
   ],
   "source": [
    "# evaluation\n",
    "\n",
    "from sklearn.metrics import classification_report\n",
    "\n",
    "print(classification_report(Ytest.argmax(axis=1), predIDXS, target_names=lb.classes_))"
   ]
  },
  {
   "cell_type": "code",
   "execution_count": 18,
   "id": "bf9828c9",
   "metadata": {},
   "outputs": [
    {
     "name": "stderr",
     "output_type": "stream",
     "text": [
      "C:\\Users\\user\\anaconda3\\lib\\site-packages\\keras\\src\\engine\\training.py:3079: UserWarning: You are saving your model as an HDF5 file via `model.save()`. This file format is considered legacy. We recommend using instead the native Keras format, e.g. `model.save('my_model.keras')`.\n",
      "  saving_api.save_model(\n"
     ]
    }
   ],
   "source": [
    "model.save(\"Face_Mask_detector.model\", save_format=\"h5\")"
   ]
  },
  {
   "cell_type": "code",
   "execution_count": 19,
   "id": "8de1a8bc",
   "metadata": {},
   "outputs": [
    {
     "data": {
      "image/png": "[encoded data removed]",
      "text/plain": [
       "<Figure size 432x288 with 1 Axes>"
      ]
     },
     "metadata": {
      "needs_background": "light"
     },
     "output_type": "display_data"
    }
   ],
   "source": [
    "import matplotlib.pyplot as plt\n",
    "\n",
    "N = EPOCHS\n",
    "plt.style.use(\"ggplot\")\n",
    "plt.figure()\n",
    "plt.plot(np.arange(0, N), H.history[\"loss\"], label=\"train_loss\")\n",
    "plt.plot(np.arange(0, N), H.history[\"val_loss\"], label=\"val_loss\")\n",
    "plt.plot(np.arange(0, N), H.history[\"accuracy\"], label=\"train_acc\")\n",
    "plt.plot(np.arange(0, N), H.history[\"val_accuracy\"], label=\"val_acc\")\n",
    "plt.title(\"training Loss and Accuracy\")\n",
    "plt.xlabel(\"Epoch #\")\n",
    "plt.ylabel(\"loss/accuracy\")\n",
    "plt.legend(loc=\"lower left\")\n",
    "plt.savefig(\"plot.png\")"
   ]
  },
  {
   "cell_type": "code",
   "execution_count": null,
   "id": "42b9ad77",
   "metadata": {},
   "outputs": [],
   "source": []
  }
 ],
 "metadata": {
  "kernelspec": {
   "display_name": "Python 3 (ipykernel)",
   "language": "python",
   "name": "python3"
  },
  "language_info": {
   "codemirror_mode": {
    "name": "ipython",
    "version": 3
   },
   "file_extension": ".py",
   "mimetype": "text/x-python",
   "name": "python",
   "nbconvert_exporter": "python",
   "pygments_lexer": "ipython3",
   "version": "3.9.7"
  }
 },
 "nbformat": 4,
 "nbformat_minor": 5
}
